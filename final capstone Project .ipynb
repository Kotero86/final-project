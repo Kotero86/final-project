{
    "cells": [
        {
            "cell_type": "markdown",
            "metadata": {},
            "source": " # Capstone Project: Chosing a location to build a Samsung supply chain in Abidjan"
        },
        {
            "cell_type": "markdown",
            "metadata": {},
            "source": "# Introduction & Background\n\nThe big firm Samsung plans to open some offices in Abidjan, Ivory Coast, in Africa. This project aim at winning the Ivorian phone market by building an effective supply chain in Abidjan which can reduce production cost, will supply the Ivorian phone Market and eventually the West African one with cheaper phones.\nOne of the factors impacting the sales revenue is the location. That is why they contacted the best data scientist group from Ivory Coast called \u201cThe Pentagon\u201d to carry out a study and pinpoint the best location.\nAbidjan is a city on the southern Atlantic coast of Ivory Coast, in West Africa. It is a capital of Ivory Coast and the major urban center with skyscrapers rising above the Ebrie Lagoon (Google).\nThe country is well known for being a commercial hub for West Africa, with a GDP growth of 8% on average. Ivory Coast, West Africa do not have a firm making phone from West Africa. Therefore, winning Ivory Coast through Abidjan is winning the West African Market, and eventually Africa.\nThe best location for the project Samsung involves leveraging the geographical data to solve that issue.\n\n"
        },
        {
            "cell_type": "markdown",
            "metadata": {},
            "source": "# Data & Methodology\nThe required data was divided into three groups:\n1.\tData for the list of neighborhoods in Abidjan-to be retrieved from Wikipedia.\n2.\tThe latitudes and longitudes for the city and the neighborhoods.\n3.\tThe data regarding the city in Abidjan by Foursquare location data.\n\nThis information will be used with the K-Clustering method to establish cluster, and eventually a map.\n\n"
        },
        {
            "cell_type": "code",
            "execution_count": null,
            "metadata": {},
            "outputs": [],
            "source": ""
        }
    ],
    "metadata": {
        "kernelspec": {
            "display_name": "Python 3.6",
            "language": "python",
            "name": "python3"
        },
        "language_info": {
            "codemirror_mode": {
                "name": "ipython",
                "version": 3
            },
            "file_extension": ".py",
            "mimetype": "text/x-python",
            "name": "python",
            "nbconvert_exporter": "python",
            "pygments_lexer": "ipython3",
            "version": "3.6.9"
        }
    },
    "nbformat": 4,
    "nbformat_minor": 1
}